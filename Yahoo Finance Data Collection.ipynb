{
 "cells": [
  {
   "cell_type": "code",
   "execution_count": 1,
   "metadata": {},
   "outputs": [],
   "source": [
    "from pymongo import MongoClient\n",
    "import yfinance as yf\n",
    "from datetime import datetime"
   ]
  },
  {
   "cell_type": "code",
   "execution_count": 2,
   "metadata": {},
   "outputs": [],
   "source": [
    "# Connect to MongoDB\n",
    "client = MongoClient('mongodb://localhost:27017/')  # Adjust connection string as needed\n",
    "db = client['financial_data']\n",
    "\n",
    "# Create collections\n",
    "historical_collection = db['historical_stock_data']\n",
    "realtime_collection = db['realtime_stock_data']\n",
    "news_collection = db['financial_news']"
   ]
  },
  {
   "cell_type": "code",
   "execution_count": 3,
   "metadata": {},
   "outputs": [
    {
     "name": "stderr",
     "output_type": "stream",
     "text": [
      "[*********************100%%**********************]  1 of 1 completed\n"
     ]
    }
   ],
   "source": [
    "# Define the stock ticker symbol\n",
    "ticker_symbol = \"AAPL\"\n",
    "\n",
    "# Collect historical stock data\n",
    "stock_data = yf.download(ticker_symbol, start=\"2023-01-01\", end=\"2023-12-31\")\n",
    "historical_data_list = stock_data.reset_index().to_dict(orient='records')\n",
    "\n",
    "# Collect real-time stock data\n",
    "ticker = yf.Ticker(ticker_symbol)\n",
    "realtime_data = ticker.history(period=\"1d\").reset_index().to_dict(orient='records')\n",
    "\n",
    "# Collect financial news\n",
    "news = ticker.news\n",
    "news_data_list = []\n",
    "for article in news:\n",
    "    news_data_list.append({\n",
    "        \"title\": article['title'],\n",
    "        \"date\": datetime.fromtimestamp(article['providerPublishTime']),\n",
    "        \"link\": article['link'],\n",
    "        \"source\": article['publisher']\n",
    "    })"
   ]
  },
  {
   "cell_type": "code",
   "execution_count": 4,
   "metadata": {},
   "outputs": [
    {
     "name": "stdout",
     "output_type": "stream",
     "text": [
      "Inserted 250 historical records.\n",
      "Inserted 1 real-time records.\n",
      "Inserted 8 news articles.\n"
     ]
    }
   ],
   "source": [
    "# Insert historical stock data\n",
    "if historical_data_list:\n",
    "    historical_collection.insert_many(historical_data_list)\n",
    "    print(f\"Inserted {len(historical_data_list)} historical records.\")\n",
    "\n",
    "# Insert real-time stock data\n",
    "if realtime_data:\n",
    "    realtime_collection.insert_many(realtime_data)\n",
    "    print(f\"Inserted {len(realtime_data)} real-time records.\")\n",
    "\n",
    "# Insert financial news data\n",
    "if news_data_list:\n",
    "    news_collection.insert_many(news_data_list)\n",
    "    print(f\"Inserted {len(news_data_list)} news articles.\")"
   ]
  },
  {
   "cell_type": "code",
   "execution_count": null,
   "metadata": {},
   "outputs": [],
   "source": []
  }
 ],
 "metadata": {
  "kernelspec": {
   "display_name": "Python 3",
   "language": "python",
   "name": "python3"
  },
  "language_info": {
   "codemirror_mode": {
    "name": "ipython",
    "version": 3
   },
   "file_extension": ".py",
   "mimetype": "text/x-python",
   "name": "python",
   "nbconvert_exporter": "python",
   "pygments_lexer": "ipython3",
   "version": "3.12.2"
  }
 },
 "nbformat": 4,
 "nbformat_minor": 2
}
